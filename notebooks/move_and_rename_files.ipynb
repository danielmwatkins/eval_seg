{
 "cells": [
  {
   "cell_type": "markdown",
   "id": "22a64d08-ce04-4b76-a3e2-865475af5557",
   "metadata": {},
   "source": [
    "# Move and rename files\n",
    "\n",
    "## Copying and renaming validated images from ift_cal-val\n",
    "Initial samples had irregular case numbering, so we clean that up so all samples are enumerated in terms of increasing longitude within each region."
   ]
  },
  {
   "cell_type": "code",
   "execution_count": 24,
   "id": "f8b25c9c-09ce-42d4-baa7-5bdb92c21acc",
   "metadata": {},
   "outputs": [],
   "source": [
    "import pandas as pd\n",
    "import os"
   ]
  },
  {
   "cell_type": "code",
   "execution_count": 28,
   "id": "477a9545-2eee-4397-9e8a-595e1f8d0dc2",
   "metadata": {},
   "outputs": [],
   "source": [
    "df = pd.read_csv('../data/metadata/validation_dataset_case_list.csv', index_col=0, parse_dates=['start_date'])"
   ]
  },
  {
   "cell_type": "code",
   "execution_count": 42,
   "id": "aa742d60-39b1-4c53-9aa5-e634963f76b3",
   "metadata": {},
   "outputs": [],
   "source": [
    "existing = df.loc[df.init_case_number > 0].set_index('init_case_number')\n",
    "existing.index = [str(n).zfill(3) for n in existing.index]"
   ]
  },
  {
   "cell_type": "code",
   "execution_count": 61,
   "id": "27e426aa-2d36-4c48-9437-c8ac6394697d",
   "metadata": {},
   "outputs": [
    {
     "name": "stdout",
     "output_type": "stream",
     "text": [
      "cp: ../../ift_cal-val/data/validation_images/labeled_landfast_png/256-greenland_sea-20060616-terra-labeled_landfast.png: No such file or directory\n",
      "cp: ../../ift_cal-val/data/validation_images/labeled_landfast_png/465-sea_of_okhostk-20150312-aqua-labeled_landfast.png: No such file or directory\n",
      "cp: ../../ift_cal-val/data/validation_images/landmask_png/465-sea_of_okhostk-20150312-aqua-landmask.png: No such file or directory\n",
      "cp: ../../ift_cal-val/data/validation_images/labeled_landfast_png/261-greenland_sea-20100728-terra-labeled_landfast.png: No such file or directory\n",
      "cp: ../../ift_cal-val/data/validation_images/labeled_landfast_png/261-greenland_sea-20100728-aqua-labeled_landfast.png: No such file or directory\n",
      "cp: ../../ift_cal-val/data/validation_images/labeled_landfast_png/256-greenland_sea-20060616-aqua-labeled_landfast.png: No such file or directory\n",
      "cp: ../../ift_cal-val/data/validation_images/labeled_landfast_png/433-sea_of_okhostk-20170523-aqua-labeled_landfast.png: No such file or directory\n",
      "cp: ../../ift_cal-val/data/validation_images/labeled_landfast_png/433-sea_of_okhostk-20170523-terra-labeled_landfast.png: No such file or directory\n"
     ]
    }
   ],
   "source": [
    "init_loc = '../../ift_cal-val/data/validation_images/'\n",
    "new_loc = '../data/validation_images/'\n",
    "floe_files = [f for f in os.listdir(init_loc + 'labeled_floes_png/') if 'png' in f]\n",
    "landfast_files = [f for f in os.listdir(init_loc + 'labeled_landfast_png/') if 'png' in f]\n",
    "landmask_files = [f for f in os.listdir(init_loc + 'landmask_png/') if 'png' in f]\n",
    "\n",
    "for file in floe_files:\n",
    "    init_cn, init_region, date, satellite, imtype = file.split('-')\n",
    "    if init_cn in existing.index:\n",
    "        for imtype in ['labeled_floes', 'labeled_landfast', 'landmask']:\n",
    "            data = existing.loc[init_cn,:]\n",
    "\n",
    "            new_cn = str(data.case_number).zfill(3)\n",
    "            region = data.region\n",
    "        \n",
    "            # labeled_floes (png)\n",
    "            init_path = init_loc + imtype + '_png/' + '-'.join([init_cn, init_region, date, satellite, imtype]) + '.png'\n",
    "            new_path = new_loc + imtype + '/' + '-'.join([new_cn, region, date, satellite, imtype]) + '.png'\n",
    "    \n",
    "            if not os.path.exists(new_path):\n",
    "                ! cp $init_path $new_path"
   ]
  },
  {
   "cell_type": "code",
   "execution_count": 59,
   "id": "db17fc01-5487-4e32-98f0-52f0971e915d",
   "metadata": {},
   "outputs": [],
   "source": [
    "init_loc = '../../ift_cal-val/data/validation_images/'\n",
    "new_loc = '../data/validation_images/'\n",
    "labeling_files = [f for f in os.listdir(init_loc + 'labeling_psd/analyzed/') if 'psd' in f]\n",
    "\n",
    "for file in labeling_files:\n",
    "    info = file.split('_')\n",
    "    init_cn = info[0]\n",
    "    satellite = info[-1].replace('.psd', '')\n",
    "    date = info[-2]\n",
    "    init_region = '_'.join(info[1:-2])\n",
    "    \n",
    "    if init_cn in existing.index:\n",
    "    \n",
    "        data = existing.loc[init_cn,:]\n",
    "\n",
    "        new_cn = str(data.case_number).zfill(3)\n",
    "        region = data.region\n",
    "    \n",
    "        # labeled_floes (png)\n",
    "        init_path = init_loc + 'labeling_psd/analyzed/' + file\n",
    "        new_path = new_loc + 'labeling_psd_files' + '/' + '-'.join([new_cn, region, date, satellite, 'labeling_psd']) + '.psd'\n",
    "\n",
    "        if not os.path.exists(new_path):\n",
    "            ! cp $init_path $new_path"
   ]
  },
  {
   "cell_type": "code",
   "execution_count": 62,
   "id": "f7b94fe7-4224-4e25-beb0-3b72fd00a6b0",
   "metadata": {},
   "outputs": [],
   "source": [
    "init_loc = '../../ift_cal-val/data/validation_images/'\n",
    "new_loc = '../data/validation_images/'\n",
    "labeling_files = [f for f in os.listdir(init_loc + 'labeling_psd/not_yet_analyzed/') if 'psd' in f]\n",
    "\n",
    "for file in labeling_files:\n",
    "    info = file.split('_')\n",
    "    init_cn = info[0]\n",
    "    satellite = info[-1].replace('.psd', '')\n",
    "    date = info[-2]\n",
    "    init_region = '_'.join(info[1:-2])\n",
    "    \n",
    "    if init_cn in existing.index:\n",
    "    \n",
    "        data = existing.loc[init_cn,:]\n",
    "\n",
    "        new_cn = str(data.case_number).zfill(3)\n",
    "        region = data.region\n",
    "    \n",
    "        # labeled_floes (png)\n",
    "        init_path = init_loc + 'labeling_psd/not_yet_analyzed/' + file\n",
    "        new_path = new_loc + 'labeling_psd_files' + '/labeling_psd_tbd/' + '-'.join([new_cn, region, date, satellite, 'labeling_psd']) + '.psd'\n",
    "\n",
    "        if not os.path.exists(new_path):\n",
    "            ! cp $init_path $new_path"
   ]
  },
  {
   "cell_type": "markdown",
   "id": "169348ac-d97a-447a-b0a3-8b6415c4c347",
   "metadata": {},
   "source": [
    "Next steps:\n",
    "- Check missing images in the photoshop files\n",
    "- Adjust the imsize to match\n",
    "- Fix the touching floes, can use the julia get floe masks to investigate\n",
    "- Set up tool to remove floes smaller than the stated minimum floe size (which should depend on something physical)"
   ]
  },
  {
   "cell_type": "code",
   "execution_count": 39,
   "id": "d219bdf5-8124-45be-9946-18dbf29533e7",
   "metadata": {},
   "outputs": [],
   "source": [
    "floe_files = [f for f in os.listdir(init_loc + 'labeled_floes_png/') if 'png' in f]\n"
   ]
  },
  {
   "cell_type": "code",
   "execution_count": 29,
   "id": "e3dc9b13-0f8e-4bd9-91cf-c41adbb101de",
   "metadata": {},
   "outputs": [
    {
     "data": {
      "text/plain": [
       "case_number                                     1\n",
       "region                                 baffin_bay\n",
       "start_date                    2022-09-11 00:00:00\n",
       "center_lon                             -91.527525\n",
       "center_lat                              77.801013\n",
       "center_x                                -962500.0\n",
       "center_y                                -912500.0\n",
       "month                                           9\n",
       "sea_ice_fraction                              1.0\n",
       "mean_sea_ice_concentration                  0.573\n",
       "init_case_number                               48\n",
       "Name: 0, dtype: object"
      ]
     },
     "execution_count": 29,
     "metadata": {},
     "output_type": "execute_result"
    }
   ],
   "source": [
    "# Using PIL\n",
    "# check if images are 400 by 400\n",
    "# check if the images are strictly binary\n",
    "for row, data in df.iterrows():\n",
    "    if data.init_case_number > 0:\n",
    "        cn = str(data.case_number).zfill(3)\n",
    "        init_cn = str(data.init_case_number).zfill(3)\n",
    "        region = data.region\n",
    "        break\n",
    "data"
   ]
  },
  {
   "cell_type": "code",
   "execution_count": 60,
   "id": "b66ef1e5-9f42-443b-80fb-0fd9815feeae",
   "metadata": {},
   "outputs": [],
   "source": [
    "# Next: copy and rename relevant images from the IFT runs\n",
    "\n",
    "# Check that the file name structure is right\n",
    "\n",
    "cases = os.listdir('../data/ift_lopez-acosta-tiling/full_output/')\n",
    "cases = [c for c in cases if c[0] != '.']\n",
    "cases.sort()\n",
    "\n",
    "for case in cases:\n",
    "    case_number, region, dx, yyyy, mm, dd = case.split('-')\n",
    "    startdate = yyyy + mm + dd\n",
    "    dataloc = '../data/ift_lopez-acosta-tiling/full_output/{c}/work/'.format(c=case)\n",
    "    \n",
    "    for satellite in ['aqua', 'terra']:\n",
    "        date_folder = '{sd}.250m.{sat}'.format(sd=startdate, sat=satellite)\n",
    "        if date_folder in os.listdir(dataloc):\n",
    "            contents = os.listdir(dataloc + '/' + date_folder)\n",
    "    \n",
    "            # Copy labeled image\n",
    "            old_path = dataloc  + '/' + date_folder + '/labeled.tiff'\n",
    "            new_path = \"../data/ift_lopez-acosta-tiling/labeled_floes/\" + '-'.join(\n",
    "                [case_number, region, startdate, satellite, 'labeled_floes.tiff'])\n",
    "            \n",
    "            if 'labeled.tiff' in contents:\n",
    "                if not os.path.exists(new_path):\n",
    "                    ! cp $old_path $new_path\n",
    "            \n",
    "            if 'labeled.tiff' in contents:\n",
    "                if not os.path.exists(new_path):\n",
    "                    ! cp $old_path $new_path                    \n",
    "                \n",
    "            elif satellite=='aqua':\n",
    "                if not os.path.exists(new_path):\n",
    "                    pass\n",
    "                    # print(case_number, 'no labeled image,', 'visible floes=', df.loc['{cn}_{sat}'.format(cn=case_number, sat=satellite), 'visible_floes'])\n",
    "\n",
    "            # Copy labeled image\n",
    "            old_path = dataloc  + '/' + date_folder + '/labeled.colorized.tiff'\n",
    "            new_path = \"../data/ift_lopez-acosta-tiling/labeled_colored_floes/\" + '-'.join(\n",
    "                [case_number, region, startdate, satellite, 'labeled_colorized_floes.tiff'])\n",
    "            \n",
    "            if 'labeled.colorized.tiff' in contents:\n",
    "                if not os.path.exists(new_path):\n",
    "                    ! cp $old_path $new_path\n",
    "            \n",
    "            if 'labeled.colorized.tiff' in contents:\n",
    "                if not os.path.exists(new_path):\n",
    "                    ! cp $old_path $new_path                    \n",
    "                \n",
    "            elif satellite=='aqua':\n",
    "                if not os.path.exists(new_path):\n",
    "                    pass\n",
    "            # Copy MODIS images\n",
    "            # 1. Cloud fraction\n",
    "            old_path = dataloc + '/' + date_folder + '/cloud.tiff'\n",
    "            new_path = \"../data/modis/cloudfraction/\" + '-'.join(\n",
    "                [case_number, region, dx, startdate]) + '.' + satellite + '.cloudfraction.250m.tiff'\n",
    "            if os.path.exists(old_path):\n",
    "                ! cp $old_path $new_path\n",
    "\n",
    "            # 2. True color\n",
    "            old_path = dataloc + '/' + date_folder + '/truecolor.tiff'\n",
    "            new_path = \"../data/modis/truecolor/\" + '-'.join(\n",
    "                [case_number, region, dx, startdate]) + '.' + satellite + '.truecolor.250m.tiff'\n",
    "            if os.path.exists(old_path):\n",
    "                if not os.path.exists(new_path):\n",
    "                    ! cp $old_path $new_path\n",
    "            \n",
    "\n",
    "            # 3. False color\n",
    "            old_path = dataloc + '/' + date_folder + '/falsecolor.tiff'\n",
    "            new_path = \"../data/modis/falsecolor/\" + '-'.join(\n",
    "                [case_number, region, dx, startdate]) + '.' + satellite + '.falsecolor.250m.tiff'\n",
    "            if os.path.exists(old_path):\n",
    "                if not os.path.exists(new_path):\n",
    "                    ! cp $old_path $new_path\n",
    "\n",
    "            # 4. Landmask\n",
    "            old_path = dataloc + '/' + date_folder + '/landmask.tiff'\n",
    "            new_path = \"../data/modis/landmask/\" + '-'.join(\n",
    "                [case_number, region, dx, startdate]) + '.' + satellite + '.landmask.250m.tiff'\n",
    "            if os.path.exists(old_path):\n",
    "                if not os.path.exists(new_path):\n",
    "                    ! cp $old_path $new_path\n",
    "\n",
    "        else:\n",
    "            pass\n",
    "            # print(case_number, 'work folder empty', dataloc)"
   ]
  },
  {
   "cell_type": "code",
   "execution_count": 15,
   "id": "1f60ff59-7868-467e-8dfd-21743659af08",
   "metadata": {},
   "outputs": [
    {
     "data": {
      "text/plain": [
       "['001', 'baffin_bay', '100km', '2022', '09', '11']"
      ]
     },
     "execution_count": 15,
     "metadata": {},
     "output_type": "execute_result"
    }
   ],
   "source": [
    "# After existing PSD files are updated"
   ]
  },
  {
   "cell_type": "code",
   "execution_count": null,
   "id": "9fc43a00-e9ca-4817-80aa-c12fcf4da106",
   "metadata": {},
   "outputs": [],
   "source": []
  }
 ],
 "metadata": {
  "kernelspec": {
   "display_name": "Python 3 (ipykernel)",
   "language": "python",
   "name": "python3"
  },
  "language_info": {
   "codemirror_mode": {
    "name": "ipython",
    "version": 3
   },
   "file_extension": ".py",
   "mimetype": "text/x-python",
   "name": "python",
   "nbconvert_exporter": "python",
   "pygments_lexer": "ipython3",
   "version": "3.9.13"
  }
 },
 "nbformat": 4,
 "nbformat_minor": 5
}
